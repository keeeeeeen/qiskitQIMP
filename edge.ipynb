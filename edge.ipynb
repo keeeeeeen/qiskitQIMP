{
 "cells": [
  {
   "cell_type": "code",
   "execution_count": null,
   "id": "47f750cf",
   "metadata": {},
   "outputs": [],
   "source": [
    "import qiskit\n",
    "import numpy as np\n",
    "import matplotlib.pyplot as plt"
   ]
  }
 ],
 "metadata": {
  "kernelspec": {
   "display_name": "qiskitQIMP",
   "language": "python",
   "name": "python3"
  },
  "language_info": {
   "name": "python",
   "version": "3.12.3"
  }
 },
 "nbformat": 4,
 "nbformat_minor": 5
}
